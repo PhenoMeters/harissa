{
 "cells": [
  {
   "cell_type": "markdown",
   "metadata": {},
   "source": [
    "## Harissa demo 1 - Simulating networks"
   ]
  },
  {
   "cell_type": "markdown",
   "metadata": {},
   "source": [
    "Here we use the `grnsim` module to make simulations of a simple network in different regimes."
   ]
  },
  {
   "cell_type": "code",
   "execution_count": 1,
   "metadata": {
    "collapsed": true
   },
   "outputs": [],
   "source": [
    "# Specific to this notebook\n",
    "import sys\n",
    "sys.path.append(\"../\")\n",
    "%matplotlib inline"
   ]
  },
  {
   "cell_type": "markdown",
   "metadata": {},
   "source": [
    "#### Step 1: load the network object and define the interactions"
   ]
  },
  {
   "cell_type": "code",
   "execution_count": 2,
   "metadata": {
    "collapsed": true
   },
   "outputs": [],
   "source": [
    "# Import the relevant packages\n",
    "import numpy as np \n",
    "import harissa.grnsim as ns\n",
    "# Load a 3-gene network example\n",
    "from harissa.networks import net0\n",
    "network = ns.load(net0)"
   ]
  },
  {
   "cell_type": "markdown",
   "metadata": {},
   "source": [
    "The interaction matrix is `network.theta`, which is zero by default. Let us define a simple cascade $1 \\to 2 \\to 3$ :"
   ]
  },
  {
   "cell_type": "code",
   "execution_count": 3,
   "metadata": {
    "collapsed": true
   },
   "outputs": [],
   "source": [
    "# Set the interactions\n",
    "network.theta[0,0] = 5 # Gene 1 is going to be activated at t = 0\n",
    "network.theta[1,0] = 5 # Influence 1 -> 2\n",
    "network.theta[2,1] = 5 # Influence 2 -> 3"
   ]
  },
  {
   "cell_type": "markdown",
   "metadata": {},
   "source": [
    "#### Step 2: define the initial state and time-points to record"
   ]
  },
  {
   "cell_type": "code",
   "execution_count": 4,
   "metadata": {
    "collapsed": true
   },
   "outputs": [],
   "source": [
    "# Set the initial levels\n",
    "network.state['M'] = 1e-2 # mRNA\n",
    "network.state['P'] = 5e-2 # Proteins\n",
    "# Set the steps to record\n",
    "time = np.linspace(0,100,1000)"
   ]
  },
  {
   "cell_type": "markdown",
   "metadata": {},
   "source": [
    "The exact simulations generate continuous time trajectories: the variable `time` is just the list of points we want to record."
   ]
  },
  {
   "cell_type": "markdown",
   "metadata": {},
   "source": [
    "#### Step 3: simulate!"
   ]
  },
  {
   "cell_type": "markdown",
   "metadata": {},
   "source": [
    "The `grnsim` module actually implements three distinct models:\n",
    "- the stochastic model in general regime. This is the fundamental mechanistic model. It includes a description of promoter states, which can be either active or inactive.\n",
    "- the stochastic model in bursty regime. This is a reduced model in which promoter active times are infinitely short, so that mRNA is produced by *bursts* (and also proteins if their half-life is short enough). Promoters are described anymore, which results in faster simulations.\n",
    "- the deterministic counterpart model, which corresponds to the limit of fast promoter dynamics compared to mRNA. Basically a non-linear ODE system. This model is provided for comparison, but we claim it is not realistic in general."
   ]
  },
  {
   "cell_type": "markdown",
   "metadata": {},
   "source": [
    "*Stochastic model, general regime*\n",
    "\n",
    "The simulation algorithm is based on a thinning method, that is, it computes as many jumps as in the “worst case scenario”: this results in “phantom” jumps, which have no visible effect but enable the simulations to be exact. The option `info=True` displays the number of jumps used in the simulation:"
   ]
  }
 ],
 "metadata": {
  "kernelspec": {
   "display_name": "Python 3",
   "language": "python",
   "name": "python3"
  },
  "language_info": {
   "codemirror_mode": {
    "name": "ipython",
    "version": 3
   },
   "file_extension": ".py",
   "mimetype": "text/x-python",
   "name": "python",
   "nbconvert_exporter": "python",
   "pygments_lexer": "ipython3",
   "version": "3.5.3"
  }
 },
 "nbformat": 4,
 "nbformat_minor": 2
}
